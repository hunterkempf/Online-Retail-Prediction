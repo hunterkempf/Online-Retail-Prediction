{
 "cells": [
  {
   "cell_type": "markdown",
   "id": "78dfada1-393e-477e-bf22-be4b7c7c75b3",
   "metadata": {},
   "source": [
    "# Online Retail Sales Data Analysis\n"
   ]
  },
  {
   "cell_type": "code",
   "execution_count": null,
   "id": "9e5bd6f1-b8e8-4210-94d5-12e718e51a73",
   "metadata": {},
   "outputs": [],
   "source": []
  },
  {
   "cell_type": "code",
   "execution_count": null,
   "id": "8878180b-3edb-4a7d-8086-5ca79b6c98af",
   "metadata": {},
   "outputs": [],
   "source": []
  }
 ],
 "metadata": {
  "kernelspec": {
   "display_name": "Python [conda env:base] *",
   "language": "python",
   "name": "conda-base-py"
  },
  "language_info": {
   "codemirror_mode": {
    "name": "ipython",
    "version": 3
   },
   "file_extension": ".py",
   "mimetype": "text/x-python",
   "name": "python",
   "nbconvert_exporter": "python",
   "pygments_lexer": "ipython3",
   "version": "3.10.11"
  }
 },
 "nbformat": 4,
 "nbformat_minor": 5
}
